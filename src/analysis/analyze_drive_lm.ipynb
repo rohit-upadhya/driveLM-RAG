{
 "cells": [
  {
   "cell_type": "code",
   "execution_count": null,
   "id": "11ab3867",
   "metadata": {},
   "outputs": [],
   "source": [
    "import json\n",
    "import os\n",
    "\n",
    "os.getcwd()\n",
    "BASE_DIR = os.getcwd()\n",
    "PROJECT_ROOT = os.path.abspath(os.path.join(BASE_DIR, \"..\", \"..\"))\n",
    "os.chdir(PROJECT_ROOT)"
   ]
  },
  {
   "cell_type": "code",
   "execution_count": null,
   "id": "0af0085b",
   "metadata": {},
   "outputs": [],
   "source": [
    "os.getcwd()\n",
    "from src.analysis.analyze_drive_lm import DriveLMAnalysis\n"
   ]
  },
  {
   "cell_type": "code",
   "execution_count": null,
   "id": "ee8ab1bc",
   "metadata": {},
   "outputs": [],
   "source": [
    "drive_lm_train_file = \"resources/data/drivelm/v1_1_train_nus.json\"\n",
    "with open(drive_lm_train_file, \"r\") as file:\n",
    "    drive_lm_data = json.load(file)"
   ]
  },
  {
   "cell_type": "code",
   "execution_count": null,
   "id": "ddb5973b",
   "metadata": {},
   "outputs": [],
   "source": [
    "drive_lm = DriveLMAnalysis(train_dict=drive_lm_data)\n",
    "\n",
    "question_stat = drive_lm.process_analysis()"
   ]
  },
  {
   "cell_type": "code",
   "execution_count": null,
   "id": "ba457ad8",
   "metadata": {},
   "outputs": [],
   "source": [
    "perception = []\n",
    "prediction = []\n",
    "planning = []\n",
    "behavior = []"
   ]
  },
  {
   "cell_type": "code",
   "execution_count": null,
   "id": "1d637afd",
   "metadata": {},
   "outputs": [],
   "source": [
    "for k, v in question_stat.items():\n",
    "    if \"perception\" in v:\n",
    "        perception.append(v[\"perception\"])\n",
    "    if \"prediction\" in v:\n",
    "        prediction.append(v[\"prediction\"])\n",
    "    if \"planning\" in v:\n",
    "        planning.append(v[\"planning\"])\n",
    "    if \"behavior\" in v:\n",
    "        behavior.append(v[\"behavior\"])"
   ]
  },
  {
   "cell_type": "code",
   "execution_count": null,
   "id": "540d42d3",
   "metadata": {},
   "outputs": [],
   "source": [
    "perception_mean, perception_median = drive_lm.plot_list_distribution(values=perception, title=\"Perception Questions Distribution\")\n",
    "perception_mean, perception_median = drive_lm.plot_list_distribution(values=prediction, title=\"Prediction Questions Distribution\")\n",
    "perception_mean, perception_median = drive_lm.plot_list_distribution(values=planning, title=\"Planning Questions Distribution\")\n",
    "perception_mean, perception_median = drive_lm.plot_list_distribution(values=behavior, title=\"Behavior Questions Distribution\")"
   ]
  },
  {
   "cell_type": "code",
   "execution_count": null,
   "id": "112ae66e",
   "metadata": {},
   "outputs": [],
   "source": [
    "drive_lm.plot_total(heading=\"Total, Mean and Median Values\", lists_dict={\n",
    "    \"Perception\": perception,\n",
    "    \"Prediction\": prediction,\n",
    "    \"Planning\": planning,\n",
    "    \"Behavior\": behavior,\n",
    "})"
   ]
  }
 ],
 "metadata": {
  "kernelspec": {
   "display_name": "drivelm-rag-py3.11",
   "language": "python",
   "name": "python3"
  },
  "language_info": {
   "codemirror_mode": {
    "name": "ipython",
    "version": 3
   },
   "file_extension": ".py",
   "mimetype": "text/x-python",
   "name": "python",
   "nbconvert_exporter": "python",
   "pygments_lexer": "ipython3",
   "version": "3.11.9"
  }
 },
 "nbformat": 4,
 "nbformat_minor": 5
}
